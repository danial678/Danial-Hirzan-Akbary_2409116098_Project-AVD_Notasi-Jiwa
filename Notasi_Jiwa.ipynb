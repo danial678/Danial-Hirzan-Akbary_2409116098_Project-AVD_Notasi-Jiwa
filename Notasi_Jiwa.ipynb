{
  "nbformat": 4,
  "nbformat_minor": 0,
  "metadata": {
    "colab": {
      "provenance": []
    },
    "kernelspec": {
      "name": "python3",
      "display_name": "Python 3"
    },
    "language_info": {
      "name": "python"
    }
  },
  "cells": [
    {
      "cell_type": "markdown",
      "source": [
        "#Research Overview"
      ],
      "metadata": {
        "id": "8v9ZHij9fkiH"
      }
    },
    {
      "cell_type": "markdown",
      "source": [
        "## Research Objective"
      ],
      "metadata": {
        "id": "CC3Ik8hjfqd6"
      }
    },
    {
      "cell_type": "markdown",
      "source": [
        "Tujuan utama penelitian ini adalah untuk memahami sejauh mana musik berpengaruh dalam membantu pemulihan kesehatan mental pada seseorang. data yang digunakan dalam Analisis ini akan mencakup pola hubungan antara preferensi musik, kebiasaan mendengarkan musik,Genre yang biasa digunakan, dan kondisi kesehatan mental individu berdasarkan data yang tersedia.  "
      ],
      "metadata": {
        "id": "WhcnL2oWgXqv"
      }
    },
    {
      "cell_type": "markdown",
      "source": [
        "## Assess Situation"
      ],
      "metadata": {
        "id": "huVG7O16h3tR"
      }
    },
    {
      "cell_type": "markdown",
      "source": [
        "Analisis ini berawal dari munculnya minat terhadap terapi berbasis musik untuk kesehatan mental. Dengan semakin banyaknya orang yang berjuang melawan dalam melawan penyakit mental seperti: stres, kecemasan, dan depresi, dan diketahui dampak musik secara ilmiah dapat membantu menciptakan strategi intervensi yang lebih efektif.  \n",
        "\n",
        "Dataset yang digunakan adalah **MXMH Survey Results**, yang berisi data mengenai kebiasaan mendengarkan musik dan kondisi mental responden. Analisis ini akan fokus pada bagaimana genre musik, durasi mendengarkan, serta aspek lainnya yang akan mempengaruhi kesehatan mental seseorang.  \n"
      ],
      "metadata": {
        "id": "HwJL55m7icdr"
      }
    },
    {
      "cell_type": "markdown",
      "source": [
        "## Data Analysis Goals"
      ],
      "metadata": {
        "id": "a-f7zXNHyhGS"
      }
    },
    {
      "cell_type": "markdown",
      "source": [
        "- Mengidentifikasi hubungan antara genre musik tertentu dengan tingkat stres, kecemasan, dan depresi.  \n",
        "- Menganalisis pola kebiasaan mendengarkan musik dan dampaknya terhadap kondisi mental.  \n",
        "- Menemukan kemungkinan korelasi yang bisa digunakan untuk terapi musik di masa depan."
      ],
      "metadata": {
        "id": "421i2SUwzm3h"
      }
    },
    {
      "cell_type": "markdown",
      "source": [
        "## Project Plan"
      ],
      "metadata": {
        "id": "brzrhUCS0E8v"
      }
    },
    {
      "cell_type": "markdown",
      "source": [
        "### 1. Data Understanding  \n",
        "- Mengeksplorasi dataset MXMH Survey Results untuk memahami struktur data dan variabel yang tersedia.  \n",
        "- Meninjau data, tipe data, dan mengidentifikasi potensi permasalahan seperti missing values atau dan lainya.  \n",
        "\n",
        "### 2. Data Preparation   \n",
        "- Menyusun data agar siap untuk dianalisis lebih lanjut.  \n",
        "\n",
        "### 3. Visualisasi  \n",
        "- Membuat visualisasi untuk memahami pola dan distribusi data.  \n",
        "- Menggunakan grafik untuk menunjukkan hubungan antara genre musik, kebiasaan mendengarkan musik, dan kondisi kesehatan mental.  \n",
        "\n",
        "### 4. Dashboard    \n",
        "- Menyajikandata dalam tampilan yang memudahkan pemahaman bagi pengguna .  \n",
        "\n",
        "### 5. Insight & Action  \n",
        "- Menarik kesimpulan dari analisis yang dilakukan.  \n",
        "- Memberikan rekomendasi berdasarkan temuan, misalnya bagaimana musik tertentu dapat digunakan dalam terapi kesehatan mental."
      ],
      "metadata": {
        "id": "Xdx1e_q40M6v"
      }
    }
  ]
}